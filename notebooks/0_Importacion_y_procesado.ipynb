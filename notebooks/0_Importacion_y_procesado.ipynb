{
 "cells": [
  {
   "cell_type": "markdown",
   "metadata": {},
   "source": [
    "# Descarga de datos y preprocesado\n",
    "En este código vamos a descargar los datos de las elecciones, rentas y datos demográficos para ser analizados posteriormente."
   ]
  },
  {
   "cell_type": "code",
   "execution_count": 1,
   "metadata": {},
   "outputs": [
    {
     "name": "stdout",
     "output_type": "stream",
     "text": [
      "^C\n"
     ]
    }
   ],
   "source": [
    "!cd .. && pip install ."
   ]
  },
  {
   "cell_type": "code",
   "execution_count": 1,
   "metadata": {},
   "outputs": [
    {
     "name": "stdout",
     "output_type": "stream",
     "text": [
      "Collecting package metadata (current_repodata.json): ...working... done\n",
      "Solving environment: ...working... done\n",
      "\n",
      "## Package Plan ##\n",
      "\n",
      "  environment location: D:\\Programas\\anaconda3\n",
      "\n",
      "  added / updated specs:\n",
      "    - folium\n",
      "\n",
      "\n",
      "The following packages will be downloaded:\n",
      "\n",
      "    package                    |            build\n",
      "    ---------------------------|-----------------\n",
      "    branca-0.3.1               |             py_0          25 KB  conda-forge\n",
      "    folium-0.10.0              |             py_1          59 KB  conda-forge\n",
      "    vincent-0.4.4              |             py_1          28 KB  conda-forge\n",
      "    ------------------------------------------------------------\n",
      "                                           Total:         112 KB\n",
      "\n",
      "The following NEW packages will be INSTALLED:\n",
      "\n",
      "  branca             conda-forge/noarch::branca-0.3.1-py_0\n",
      "  folium             conda-forge/noarch::folium-0.10.0-py_1\n",
      "  vincent            conda-forge/noarch::vincent-0.4.4-py_1\n",
      "\n",
      "\n",
      "\n",
      "Downloading and Extracting Packages\n",
      "\n",
      "vincent-0.4.4        | 28 KB     |            |   0% \n",
      "vincent-0.4.4        | 28 KB     | #####7     |  58% \n",
      "vincent-0.4.4        | 28 KB     | ########## | 100% \n",
      "\n",
      "branca-0.3.1         | 25 KB     |            |   0% \n",
      "branca-0.3.1         | 25 KB     | ########## | 100% \n",
      "\n",
      "folium-0.10.0        | 59 KB     |            |   0% \n",
      "folium-0.10.0        | 59 KB     | ##7        |  27% \n",
      "folium-0.10.0        | 59 KB     | ########## | 100% \n",
      "Preparing transaction: ...working... done\n",
      "Verifying transaction: ...working... done\n",
      "Executing transaction: ...working... done\n"
     ]
    },
    {
     "name": "stderr",
     "output_type": "stream",
     "text": [
      "El sistema no puede encontrar la ruta especificada.\n"
     ]
    }
   ],
   "source": [
    "!conda install -c conda-forge -y folium"
   ]
  },
  {
   "cell_type": "code",
   "execution_count": 2,
   "metadata": {},
   "outputs": [
    {
     "data": {
      "text/plain": [
       "'C:\\\\Users\\\\alexm\\\\Dropbox\\\\Otros\\\\espana_en_cifras'"
      ]
     },
     "execution_count": 2,
     "metadata": {},
     "output_type": "execute_result"
    }
   ],
   "source": [
    "import os\n",
    "import pandas as pd\n",
    "import numpy as np\n",
    "import bokeh as bk\n",
    "import holoviews as hv\n",
    "from tqdm import tqdm\n",
    "\n",
    "\n",
    "from bokeh.io import output_notebook, show, output_file\n",
    "from bokeh.plotting import figure\n",
    "from bokeh.models import GeoJSONDataSource, LinearColorMapper, ColorBar, NumeralTickFormatter\n",
    "from bokeh.palettes import brewer\n",
    "\n",
    "from bokeh.io.doc import curdoc\n",
    "from bokeh.models import Slider, HoverTool, Select\n",
    "from bokeh.layouts import widgetbox, row, column\n",
    "\n",
    "\n",
    "current_dir = os.path.dirname(os.getcwd())\n",
    "current_dir"
   ]
  },
  {
   "cell_type": "markdown",
   "metadata": {},
   "source": [
    "## Descarga de datos\n",
    "\n",
    "Primero descargamos todos los datos. Aquí se incluyen las elecciones de varios años, los datos de renta y datos demográficos."
   ]
  },
  {
   "cell_type": "code",
   "execution_count": 11,
   "metadata": {},
   "outputs": [],
   "source": [
    "from eec import sacar_datos\n",
    "\n",
    "# Datos de las elecciones\n",
    "# Estos datos tienen toda la información acerca de las elecciones. Las elecciones incluyen los partidos que se presentan,\n",
    "# y el número de votos por colegio electoral y partido.\n",
    "sacar_datos(current_dir + '/datos/congreso_2019_04/', '02201904_MESA.zip', \n",
    "            'http://www.infoelectoral.mir.es/infoelectoral/docxl/apliextr/02201904_MESA.zip')\n",
    "\n",
    "sacar_datos(current_dir + '/datos/congreso_2016_06/', '02201606_MESA.zip', \n",
    "            'http://www.infoelectoral.mir.es/infoelectoral/docxl/apliextr/02201606_MESA.zip')\n",
    "\n",
    "sacar_datos(current_dir + '/datos/congreso_2015_12/', '02201512_MESA.zip', \n",
    "            'http://www.infoelectoral.mir.es/infoelectoral/docxl/apliextr/02201512_MESA.zip')\n",
    "\n",
    "# Datos censales 2016\n",
    "# Estos datos tienen dos ficheros principales:\n",
    "# 1) renta_media\n",
    "# 2) indicadores_demográficos\n",
    "sacar_datos(current_dir + '/datos/renta_demografía_2016/', '30824.csv',\n",
    "           \"https://www.ine.es/jaxiT3/files/t/es/csv_c/30824.csv\")\n",
    "sacar_datos(current_dir + '/datos/renta_demografía_2016/', '30832.csv',\n",
    "           \"https://www.ine.es/jaxiT3/files/t/es/csv_c/30832.csv\")\n",
    "sacar_datos(current_dir + '/datos/renta_demografía_2016/', '30831.csv',\n",
    "           \"https://www.ine.es/jaxiT3/files/t/es/csv_c/30831.csv\")\n",
    "sacar_datos(current_dir + '/datos/renta_demografía_2016/', '30830.csv',\n",
    "           \"https://www.ine.es/jaxiT3/files/t/es/csv_c/30830.csv\")\n",
    "sacar_datos(current_dir + '/datos/renta_demografía_2016/', '30828.csv',\n",
    "           \"https://www.ine.es/jaxiT3/files/t/es/csv_c/30828.csv\")\n",
    "sacar_datos(current_dir + '/datos/renta_demografía_2016/', '30827.csv',\n",
    "           \"https://www.ine.es/jaxiT3/files/t/es/csv_c/30827.csv\")\n",
    "\n",
    "# Datos censales 2011\n",
    "# Este fichero contiene muchos datos demográficos; asociados a edad, sexo, inmigración, etc.\n",
    "sacar_datos(current_dir + '/datos/censos2011_datos/', 'indicadores_seccion_censal_csv.zip',\n",
    "           \"https://www.ine.es/censos2011_datos/indicadores_seccion_censal_csv.zip\")\n",
    "sacar_datos(current_dir + '/datos/censos2011_datos/', 'indicadores_seccen_rejilla.xls',\n",
    "           \"https://www.ine.es/censos2011_datos/indicadores_seccen_rejilla.xls\")\n",
    "\n",
    "# Datos de cartografía de 2011\n",
    "sacar_datos(current_dir + '/datos/cartografia_2011/', 'cartografia_censo2011_nacional.zip',\n",
    "           \"https://www.ine.es/censos2011_datos/cartografia_censo2011_nacional.zip\")"
   ]
  },
  {
   "cell_type": "code",
   "execution_count": 12,
   "metadata": {},
   "outputs": [],
   "source": [
    "os.rename(current_dir + '/datos/renta_demografía_2016/30824.csv', \n",
    "          current_dir + '/datos/renta_demografía_2016/renta_media.csv')\n",
    "\n",
    "os.rename(current_dir + '/datos/renta_demografía_2016/30832.csv', \n",
    "          current_dir + '/datos/renta_demografía_2016/datos_demograficos_general.csv')\n",
    "\n",
    "os.rename(current_dir + '/datos/renta_demografía_2016/30831.csv', \n",
    "          current_dir + '/datos/renta_demografía_2016/datos_demograficos_relativo_sexo_nacionalidad.csv')\n",
    "\n",
    "os.rename(current_dir + '/datos/renta_demografía_2016/30830.csv', \n",
    "          current_dir + '/datos/renta_demografía_2016/datos_demograficos_relativo_sexo_edad.csv')\n",
    "\n",
    "os.rename(current_dir + '/datos/renta_demografía_2016/30828.csv', \n",
    "          current_dir + '/datos/renta_demografía_2016/datos_demograficos_absoluto_sexo_nacionalidad.csv')\n",
    "\n",
    "os.rename(current_dir + '/datos/renta_demografía_2016/30827.csv', \n",
    "          current_dir + '/datos/renta_demografía_2016/datos_demograficos_absoluto_sexo_edad.csv')"
   ]
  },
  {
   "cell_type": "markdown",
   "metadata": {},
   "source": [
    "**IMPORTANTE:** para el archivo ``indicadores_seccen_rejilla_.xls`` hay que crear un nuevo documento, ``indicadores.csv``, con los contenidos de la segunda hoja del excels. Los contenidos quedan así."
   ]
  },
  {
   "cell_type": "code",
   "execution_count": 4,
   "metadata": {},
   "outputs": [],
   "source": [
    "indicadores = pd.read_csv(current_dir + '/datos/censos2011_datos/indicadores.csv', encoding='latin1', sep=';', header=None)\n",
    "indicadores = indicadores.set_index(0)"
   ]
  },
  {
   "cell_type": "markdown",
   "metadata": {},
   "source": [
    "## Procesado de datos\n",
    "Ahora vamos a procesar los datos para que queden más legibles y sean más sencillos de manipular."
   ]
  },
  {
   "cell_type": "markdown",
   "metadata": {},
   "source": [
    "### Procesado de datos electorales\n",
    "\n",
    "Para procesar los datos electorales se siguen los siguientes pasos:\n",
    "- Abrirmos cada archivo ``.DAT`` y asignar nombre de columna a cada elemento de la tabla. Los elementos de las tablas vienen referenciados en el archivo ``FICHEROS.doc``.\n",
    "- Procesamos los códigos de candidatura. Para procesarlos, los nombres de candidaturas similares se reducen al mismo nombre. Por ejemplo, ``UNIDOS PODEMOS``, ``UNIDAS PODEMOS`` y ``PODEMOS-IU`` se engloban dentro de ``PODEMOS``. Los resultados de candidaturas diferentes se suman.\n",
    "- Unificamos los datos de los votos por candidatura, que están en el fichero 10, y los recuentos de votos, votos nulos y votos en blanco, que están en el fichero 9. \n",
    "- Reducimos el número de filas quedándonos sólo con la información de las secciones, pues es al final con la que acabaremos trabajando.\n",
    "- Creamos una columna ``codigo`` que incluya la información de provincia, municipio, distrito y sección para luego cruzarla con otas tablas.\n",
    "\n",
    "Este proceso puede tardar un rato (10 minutos con cada elección).\n",
    "\n",
    "El archivo final es el archivo `resultados_candidaturas.pickle`, que está comprimido. Para ello usaremos el módulo `pandas`."
   ]
  },
  {
   "cell_type": "code",
   "execution_count": 3,
   "metadata": {},
   "outputs": [
    {
     "name": "stdout",
     "output_type": "stream",
     "text": [
      "Procesando archivo 3\n",
      "Procesando archivo 4\n",
      "Procesando archivo 5\n",
      "Procesando archivo 6\n",
      "Procesando archivo 7\n",
      "Procesando archivo 8\n",
      "Procesando archivo 9\n",
      "Procesando archivo 10\n"
     ]
    },
    {
     "name": "stderr",
     "output_type": "stream",
     "text": [
      "100%|████████████████████████████████████████████████████████████████████████████| 36370/36370 [11:53<00:00, 50.96it/s]\n",
      "100%|█████████████████████████████████████████████████████████████████████████| 36370/36370 [00:01<00:00, 21145.86it/s]\n"
     ]
    },
    {
     "name": "stdout",
     "output_type": "stream",
     "text": [
      "Procesando archivo 3\n",
      "Procesando archivo 4\n",
      "Procesando archivo 5\n",
      "Procesando archivo 6\n",
      "Procesando archivo 7\n",
      "Procesando archivo 8\n",
      "Procesando archivo 9\n",
      "Procesando archivo 10\n"
     ]
    },
    {
     "name": "stderr",
     "output_type": "stream",
     "text": [
      "100%|████████████████████████████████████████████████████████████████████████████| 36246/36246 [11:00<00:00, 30.89it/s]\n",
      "100%|█████████████████████████████████████████████████████████████████████████| 36246/36246 [00:01<00:00, 20374.23it/s]\n"
     ]
    },
    {
     "name": "stdout",
     "output_type": "stream",
     "text": [
      "Procesando archivo 3\n",
      "Procesando archivo 4\n",
      "Procesando archivo 5\n",
      "Procesando archivo 6\n",
      "Procesando archivo 7\n",
      "Procesando archivo 8\n",
      "Procesando archivo 9\n",
      "Procesando archivo 10\n"
     ]
    },
    {
     "name": "stderr",
     "output_type": "stream",
     "text": [
      "100%|████████████████████████████████████████████████████████████████████████████| 36270/36270 [13:08<00:00, 46.03it/s]\n",
      "100%|█████████████████████████████████████████████████████████████████████████| 36270/36270 [00:01<00:00, 21276.53it/s]\n"
     ]
    }
   ],
   "source": [
    "from eec import procesar_elecciones\n",
    "\n",
    "procesar_elecciones(carpeta=current_dir + '/datos/congreso_2019_04/', sufijo='021904')\n",
    "procesar_elecciones(carpeta=current_dir + '/datos/congreso_2016_06/', sufijo='021606')\n",
    "procesar_elecciones(carpeta=current_dir + '/datos/congreso_2015_12/', sufijo='021512')"
   ]
  },
  {
   "cell_type": "markdown",
   "metadata": {},
   "source": [
    "### Procesado de rentas y calificadores demográficos\n",
    "El formato del archivo es similar al de los datos electorales, indexados por el código de municipio.\n",
    "Por practicidad, hemos incluido las columnas de los documentos como `pandas.MultiIndex` de modo que se puede hacer una selección de la columna como `df[('A', 'B', 'C')]`."
   ]
  },
  {
   "cell_type": "code",
   "execution_count": 3,
   "metadata": {},
   "outputs": [
    {
     "name": "stderr",
     "output_type": "stream",
     "text": [
      " 24%|██████████████████▋                                                            | 322/1359 [00:04<00:15, 65.35it/s]D:\\Programas\\anaconda3\\lib\\site-packages\\pandas\\core\\indexing.py:190: SettingWithCopyWarning: \n",
      "A value is trying to be set on a copy of a slice from a DataFrame\n",
      "\n",
      "See the caveats in the documentation: http://pandas.pydata.org/pandas-docs/stable/indexing.html#indexing-view-versus-copy\n",
      "  self._setitem_with_indexer(indexer, value)\n",
      "D:\\Programas\\anaconda3\\lib\\site-packages\\eec\\procesar_renta_demografia.py:43: SettingWithCopyWarning: \n",
      "A value is trying to be set on a copy of a slice from a DataFrame\n",
      "\n",
      "See the caveats in the documentation: http://pandas.pydata.org/pandas-docs/stable/indexing.html#indexing-view-versus-copy\n",
      "  df_rest['Renta media por persona'].loc[row] = np.NaN\n",
      "D:\\Programas\\anaconda3\\lib\\site-packages\\eec\\procesar_renta_demografia.py:44: SettingWithCopyWarning: \n",
      "A value is trying to be set on a copy of a slice from a DataFrame\n",
      "\n",
      "See the caveats in the documentation: http://pandas.pydata.org/pandas-docs/stable/indexing.html#indexing-view-versus-copy\n",
      "  df_rest['Renta media por hogar'].loc[row] = np.NaN\n",
      "100%|██████████████████████████████████████████████████████████████████████████████| 1359/1359 [00:28<00:00, 47.33it/s]\n"
     ]
    }
   ],
   "source": [
    "from eec import procesar_renta\n",
    "\n",
    "procesar_renta(carpeta=current_dir + '/datos/renta_demografía_2016/', años=['2016', '2015'])"
   ]
  },
  {
   "cell_type": "code",
   "execution_count": null,
   "metadata": {},
   "outputs": [],
   "source": [
    "from eec import procesar_demografia\n",
    "\n",
    "procesar_demografia(current_dir + '/datos/renta_demografía_2016/datos_demograficos_general.csv', \n",
    "                   ['categoria', 'año'])\n",
    "procesar_demografia(current_dir + '/datos/renta_demografía_2016/datos_demograficos_relativo_sexo_nacionalidad.csv', \n",
    "                   ['sexo', 'nacionalidad', 'renta', 'año'])\n",
    "procesar_demografia(current_dir + '/datos/renta_demografía_2016/datos_demograficos_relativo_sexo_nacionalidad.csv', \n",
    "                   ['sexo', 'nacionalidad', 'renta', 'año'])\n",
    "procesar_demografia(current_dir + '/datos/renta_demografía_2016/datos_demograficos_relativo_sexo_edad.csv',\n",
    "                   ['sexo', 'edad', 'renta', 'año'])\n",
    "procesar_demografia(current_dir + '/datos/renta_demografía_2016/datos_demograficos_absoluto_sexo_nacionalidad.csv',\n",
    "                   ['sexo', 'nacionalidad', 'renta', 'año'])\n",
    "procesar_demografia(current_dir + '/datos/renta_demografía_2016/datos_demograficos_absoluto_sexo_edad.csv',\n",
    "                   ['sexo', 'edad', 'renta', 'año'])"
   ]
  },
  {
   "cell_type": "markdown",
   "metadata": {},
   "source": [
    "### Procesado de datos geográficos\n",
    "Para procesar los datos geográficos vamos a necesitar pasar los datos del formato `shapefile` al formato `geojson`. Este último nos va a permitir colorear las secciones y cargarlas en mapas. Para esto, necesitaremos usar la [siguiente web](https://mapshaper.org/), donde subimos el archivo, y lo exportamos como `geojson`. Antes de exportar hacemos dos cosas:\n",
    "- En la consola escribimos `-proj EPSG:4326`. Esto transforma las coordenadas del mapa a un sistema más internacional y conocido.\n",
    "- En `simplify` checkeamos `prevent shape removal`, le damos a `apply` y deslizamos el deslizador hasta 50. Cuando salga a la izquierda `X line intersections`, le damos a `repair`.\n",
    "\n",
    "Guardamos el archivo resultante `SECC_CPV_E_20111101_01_R_INE.json` en la carpeta del `shapefile`.\n",
    "\n",
    "Como el archivo es bastante grande, para reducir el espacio vamos a reducir las coordenadas de los polígonos, y añadir campos extra."
   ]
  },
  {
   "cell_type": "code",
   "execution_count": 208,
   "metadata": {},
   "outputs": [],
   "source": [
    "# from shapely.geometry import Point, Polygon\n",
    "import geopandas as gpd\n",
    "\n",
    "censo_2011 = gpd.read_file(current_dir + '/datos/cartografia_2011/SECC_CPV_E_20111101_01_R_INE.json')"
   ]
  },
  {
   "cell_type": "code",
   "execution_count": 209,
   "metadata": {},
   "outputs": [],
   "source": [
    "censo_2011['CUDIS'] = censo_2011['CUMUN'] + censo_2011['CDIS']"
   ]
  },
  {
   "cell_type": "markdown",
   "metadata": {},
   "source": [
    "Vamos a crear datasets en niveles superiores, y luego vamos a guardar las columnas relevantes para cada dataset."
   ]
  },
  {
   "cell_type": "code",
   "execution_count": 210,
   "metadata": {},
   "outputs": [
    {
     "data": {
      "text/plain": [
       "['CUSEC', 'CUMUN', 'CSEC', 'CDIS', 'CMUN', 'CUDIS', 'CCA', 'CPRO']"
      ]
     },
     "execution_count": 210,
     "metadata": {},
     "output_type": "execute_result"
    }
   ],
   "source": [
    "['CUSEC', 'CUMUN', 'CSEC', 'CDIS', 'CMUN', 'CUDIS', 'CCA', 'CPRO']"
   ]
  },
  {
   "cell_type": "code",
   "execution_count": 211,
   "metadata": {},
   "outputs": [],
   "source": [
    "distritos_2011 = censo_2011.dissolve('CUDIS', as_index=False)\n",
    "municipios_2011 = distritos_2011.dissolve('CUMUN', as_index=False)\n",
    "provincias_2011 = municipios_2011.dissolve('CPRO', as_index=False)\n",
    "autonomias_2011 = municipios_2011.dissolve('CCA', as_index=False)"
   ]
  },
  {
   "cell_type": "code",
   "execution_count": 212,
   "metadata": {},
   "outputs": [],
   "source": [
    "censo_2011 = censo_2011[['OBJECTID', 'CUSEC', 'geometry']]\n",
    "distritos_2011 = distritos_2011[['OBJECTID', 'CUDIS', 'geometry']]\n",
    "municipios_2011 = municipios_2011[['OBJECTID', 'CUMUN', 'geometry']]\n",
    "provincias_2011 = provincias_2011[['OBJECTID', 'CPRO', 'geometry']]\n",
    "autonomias_2011 = autonomias_2011[['OBJECTID', 'CCA', 'geometry']]"
   ]
  },
  {
   "cell_type": "code",
   "execution_count": 213,
   "metadata": {},
   "outputs": [],
   "source": [
    "for gs in [censo_2011, distritos_2011, municipios_2011, provincias_2011, autonomias_2011]:\n",
    "    gs = gs.reset_index(drop=True)"
   ]
  },
  {
   "cell_type": "code",
   "execution_count": 214,
   "metadata": {},
   "outputs": [
    {
     "name": "stderr",
     "output_type": "stream",
     "text": [
      "ERROR:fiona._env:C:\\Users\\alexm\\Dropbox\\Otros\\espana_en_cifras/datos/cartografia_2011/autonomias_2011.json: No such file or directory\n",
      "WARNING:fiona._env:driver GeoJSON does not support creation option ENCODING\n"
     ]
    }
   ],
   "source": [
    "censo_2011.to_file(current_dir + '/datos/cartografia_2011/censo_2011.json', driver='GeoJSON')\n",
    "distritos_2011.to_file(current_dir + '/datos/cartografia_2011/distritos_2011.json', driver='GeoJSON')\n",
    "municipios_2011.to_file(current_dir + '/datos/cartografia_2011/municipios_2011.json', driver='GeoJSON')\n",
    "provincias_2011.to_file(current_dir + '/datos/cartografia_2011/provincias_2011.json', driver='GeoJSON')\n",
    "autonomias_2011.to_file(current_dir + '/datos/cartografia_2011/autonomias_2011.json', driver='GeoJSON')"
   ]
  },
  {
   "cell_type": "markdown",
   "metadata": {},
   "source": [
    "Opcionalmente, y sobre todo para los mapas más grandes, podemos reducir el tamaño de los archivos como lo hemos hecho inicialmente para el archivo de censos."
   ]
  }
 ],
 "metadata": {
  "kernelspec": {
   "display_name": "Python 3",
   "language": "python",
   "name": "python3"
  },
  "language_info": {
   "codemirror_mode": {
    "name": "ipython",
    "version": 3
   },
   "file_extension": ".py",
   "mimetype": "text/x-python",
   "name": "python",
   "nbconvert_exporter": "python",
   "pygments_lexer": "ipython3",
   "version": "3.7.3"
  }
 },
 "nbformat": 4,
 "nbformat_minor": 2
}
