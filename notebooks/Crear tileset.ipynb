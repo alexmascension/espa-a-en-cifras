{
 "cells": [
  {
   "cell_type": "markdown",
   "metadata": {},
   "source": [
    "# Creación de tilesets\n",
    "En este notebook vamos a crear como crear tilesets. Un tileset es un formato de archivo aceptado por mapbox que incluye información sobre los datos, la geometría de cada uno de los elementos, y otras opciones como el nivel de zoom permitido para visualizar."
   ]
  },
  {
   "cell_type": "code",
   "execution_count": 9,
   "metadata": {},
   "outputs": [],
   "source": [
    "import os"
   ]
  },
  {
   "cell_type": "code",
   "execution_count": 10,
   "metadata": {},
   "outputs": [],
   "source": [
    "current_dir = os.path.dirname(os.getcwd())"
   ]
  },
  {
   "cell_type": "code",
   "execution_count": 39,
   "metadata": {},
   "outputs": [],
   "source": [
    "path_to_json = current_dir + '/datos/mapas_elecciones/porcentaje_mas_votado_2019_04_secciones.json'"
   ]
  },
  {
   "cell_type": "markdown",
   "metadata": {},
   "source": [
    "El archivo json tiene que haber sido pasado por mapshaper, para corregir fallos en la exportación del json.\n",
    "En primer lugar, vamos a crear un archivo `mbtiles` del `json` para poderlo subir a mapbox studio. Para eso necesitamos `tippecanoe`. No sé como se instala directamente en Windows, aunque se debería poder. Para instalarlo en linux sólo tenéis que seguir los pasos de la web."
   ]
  },
  {
   "cell_type": "code",
   "execution_count": 19,
   "metadata": {},
   "outputs": [
    {
     "name": "stdout",
     "output_type": "stream",
     "text": [
      "fatal: destination path 'tippecanoe' already exists and is not an empty directory.\n",
      "make: *** No targets specified and no makefile found.  Stop.\n",
      "make: *** No rule to make target 'install'.  Stop.\n"
     ]
    }
   ],
   "source": [
    "!git clone https://github.com/mapbox/tippecanoe.git\n",
    "!cd tippecanoe\n",
    "!make -j\n",
    "!make install"
   ]
  },
  {
   "cell_type": "markdown",
   "metadata": {},
   "source": [
    "Igual os da error en `make -j`. Si es eso, seguramente falte algún paquete. Una busqueda en google te debería resolver rápido el problema."
   ]
  },
  {
   "cell_type": "markdown",
   "metadata": {},
   "source": [
    "Una vez hecho esto, vamos a crear el mbtile. Para ello vamos a establecer un nivel de zoom adecuado. De z3 a z10 es apropiado."
   ]
  },
  {
   "cell_type": "code",
   "execution_count": 40,
   "metadata": {},
   "outputs": [
    {
     "name": "stdout",
     "output_type": "stream",
     "text": [
      "For layer 0, using name \"porcentaje_mas_votado_2019_04_secciones\"\n",
      "/home/alex/Projects/espa-a-en-cifras/datos/mapas_elecciones/porcentaje_mas_votado_2019_04_secciones.json:9262: Found ] at top level\n",
      "/home/alex/Projects/espa-a-en-cifras/datos/mapas_elecciones/porcentaje_mas_votado_2019_04_secciones.json:9187: Reached EOF without all containers being closed\n",
      "In JSON object {\"type\":\"FeatureCollection\",\"features\":[]}\n",
      "35253 features, 33893914 bytes of geometry, 4 bytes of separate metadata, 4225829 bytes of string pool\n",
      "tile 1/0/0 size is 674578 with detail 12, >500000    \n",
      "tile 2/1/1 size is 1087302 with detail 12, >500000    \n",
      "tile 2/1/1 size is 644448 with detail 11, >500000    \n",
      "tile 3/3/2 size is 790362 with detail 12, >500000    \n",
      "tile 3/3/3 size is 889493 with detail 12, >500000    \n",
      "tile 3/3/2 size is 624966 with detail 11, >500000    \n",
      "tile 3/3/3 size is 687094 with detail 11, >500000    \n",
      "tile 4/7/5 size is 830904 with detail 12, >500000    \n",
      "tile 4/7/6 size is 1098073 with detail 12, >500000    \n",
      "tile 4/7/5 size is 678827 with detail 11, >500000    \n",
      "tile 4/7/5 size is 541545 with detail 10, >500000    \n",
      "tile 4/7/6 size is 818711 with detail 11, >500000    \n",
      "tile 4/7/6 size is 627371 with detail 10, >500000    \n",
      "tile 5/15/11 size is 1005008 with detail 12, >500000    \n",
      "tile 5/15/12 size is 1463543 with detail 12, >500000    \n",
      "tile 5/15/11 size is 784415 with detail 11, >500000    \n",
      "tile 5/15/11 size is 638117 with detail 10, >500000    \n",
      "tile 5/15/12 size is 988020 with detail 11, >500000    \n",
      "tile 5/15/11 size is 507694 with detail 9, >500000    \n",
      "tile 5/15/12 size is 740977 with detail 10, >500000    \n",
      "tile 5/15/12 size is 574582 with detail 9, >500000    \n",
      "tile 6/32/23 size is 586123 with detail 12, >500000    \n",
      "tile 6/31/23 size is 887278 with detail 12, >500000    \n",
      "tile 6/30/23 size is 510615 with detail 12, >500000    \n",
      "tile 6/31/23 size is 665501 with detail 11, >500000    \n",
      "tile 6/31/24 size is 1685257 with detail 12, >500000    \n",
      "tile 6/31/23 size is 512470 with detail 10, >500000    \n",
      "tile 6/31/24 size is 1172763 with detail 11, >500000    \n",
      "tile 6/31/24 size is 795377 with detail 10, >500000    \n",
      "tile 6/31/24 size is 594005 with detail 9, >500000    \n",
      "tile 7/62/48 size is 811771 with detail 12, >500000    \n",
      "tile 7/64/47 size is 673242 with detail 12, >500000    \n",
      "tile 7/62/48 size is 646896 with detail 11, >500000    \n",
      "tile 7/64/47 size is 553793 with detail 11, >500000    \n",
      "tile 8/125/96 size is 619689 with detail 12, >500000    \n",
      "tile 8/129/95 size is 521483 with detail 12, >500000    \n",
      "tile 8/125/96 size is 576554 with detail 11, >500000    \n",
      "  99.9%  10/505/376  \n"
     ]
    }
   ],
   "source": [
    "path_to_mbtile = path_to_json.replace('.json', '.mbtiles')\n",
    "\n",
    "!tippecanoe -o $path_to_mbtile --maximum-zoom=10 --minimum-zoom=1 --read-parallel --force $path_to_json"
   ]
  },
  {
   "cell_type": "markdown",
   "metadata": {},
   "source": [
    "Este mbtiles se sube directamente a mapbox, y es el que se usará para hacer los análisis."
   ]
  },
  {
   "cell_type": "code",
   "execution_count": null,
   "metadata": {},
   "outputs": [],
   "source": []
  }
 ],
 "metadata": {
  "kernelspec": {
   "display_name": "Python 3",
   "language": "python",
   "name": "python3"
  },
  "language_info": {
   "codemirror_mode": {
    "name": "ipython",
    "version": 3
   },
   "file_extension": ".py",
   "mimetype": "text/x-python",
   "name": "python",
   "nbconvert_exporter": "python",
   "pygments_lexer": "ipython3",
   "version": "3.7.4"
  }
 },
 "nbformat": 4,
 "nbformat_minor": 2
}
