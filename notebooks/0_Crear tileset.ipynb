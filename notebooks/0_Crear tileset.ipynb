{
 "cells": [
  {
   "cell_type": "markdown",
   "metadata": {},
   "source": [
    "# Creación de tilesets\n",
    "En este notebook vamos a crear como crear tilesets. Un tileset es un formato de archivo aceptado por mapbox que incluye información sobre los datos, la geometría de cada uno de los elementos, y otras opciones como el nivel de zoom permitido para visualizar."
   ]
  },
  {
   "cell_type": "code",
   "execution_count": null,
   "metadata": {},
   "outputs": [],
   "source": [
    "import os"
   ]
  },
  {
   "cell_type": "code",
   "execution_count": null,
   "metadata": {},
   "outputs": [],
   "source": [
    "current_dir = os.path.dirname(os.getcwd())"
   ]
  },
  {
   "cell_type": "code",
   "execution_count": null,
   "metadata": {},
   "outputs": [],
   "source": [
    "año = 2020"
   ]
  },
  {
   "cell_type": "markdown",
   "metadata": {},
   "source": [
    "Para crear el json de abajo hay que ir primero a https://www.ine.es/ss/Satellite?L=es_ES&c=Page&cid=1259952026632&p=1259952026632&pagename=ProductosYServicios%2FPYSLayout, seleccionar un año (2020) en Ficheros nacionales de arriba, y darle a \"Ir\". Esto bajará un zip, que lo cargamos en mapshaper. Esto lo hacemos automáticamente."
   ]
  },
  {
   "cell_type": "code",
   "execution_count": null,
   "metadata": {},
   "outputs": [],
   "source": [
    "!cd {current_dir}/datos/mapas_elecciones && wget https://www.ine.es/prodyser/cartografia/seccionado_{año}.zip && unzip seccionado_{año}.zip -d seccionado_{año}"
   ]
  },
  {
   "cell_type": "code",
   "execution_count": null,
   "metadata": {},
   "outputs": [],
   "source": [
    "path_to_json = current_dir + f'/datos/mapas_elecciones/seccionado_{año}.json'\n",
    "path_to_shp = path_to_json.replace('.json', f'/SECC_CE_{año}0101.shp')\n",
    "path_to_mbtile = path_to_json.replace('.json', '.mbtiles')"
   ]
  },
  {
   "cell_type": "markdown",
   "metadata": {},
   "source": [
    "El archivo json tiene que haber sido pasado por mapshaper, para corregir fallos en la exportación del json.\n",
    "Para ello, en la consola escribimos `-clean`, y `-proj wgs84` para pasar a proyección Mercator."
   ]
  },
  {
   "cell_type": "code",
   "execution_count": null,
   "metadata": {
    "scrolled": true
   },
   "outputs": [],
   "source": [
    "# Las acciones deben ir en ese orden (-o el último) porque si no lo exporta y no aplica el resto de acciones!\n",
    "!mapshaper -i {path_to_shp} -proj wgs84 -clean -o {path_to_json}"
   ]
  },
  {
   "cell_type": "markdown",
   "metadata": {},
   "source": [
    "Una vez hecho esto, vamos a crear el mbtile para poderlo cargar en Mapbox studio. Para ello vamos a establecer un nivel de zoom adecuado. De z3 a z10 es apropiado."
   ]
  },
  {
   "cell_type": "code",
   "execution_count": null,
   "metadata": {
    "scrolled": true
   },
   "outputs": [],
   "source": [
    "!tippecanoe -o $path_to_mbtile --maximum-zoom=10 --minimum-zoom=1 --read-parallel --force $path_to_json"
   ]
  },
  {
   "cell_type": "markdown",
   "metadata": {},
   "source": [
    "Este mbtiles se sube directamente a mapbox, y es el que se usará para hacer los análisis."
   ]
  }
 ],
 "metadata": {
  "kernelspec": {
   "display_name": "Python 3",
   "language": "python",
   "name": "python3"
  },
  "language_info": {
   "codemirror_mode": {
    "name": "ipython",
    "version": 3
   },
   "file_extension": ".py",
   "mimetype": "text/x-python",
   "name": "python",
   "nbconvert_exporter": "python",
   "pygments_lexer": "ipython3",
   "version": "3.8.0"
  }
 },
 "nbformat": 4,
 "nbformat_minor": 4
}
