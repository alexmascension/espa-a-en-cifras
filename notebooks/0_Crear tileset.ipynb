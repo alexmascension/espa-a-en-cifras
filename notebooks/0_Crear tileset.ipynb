{
 "cells": [
  {
   "cell_type": "markdown",
   "metadata": {},
   "source": [
    "# Creación de tilesets\n",
    "En este notebook vamos a crear como crear tilesets. Un tileset es un formato de archivo aceptado por mapbox que incluye información sobre los datos, la geometría de cada uno de los elementos, y otras opciones como el nivel de zoom permitido para visualizar."
   ]
  },
  {
   "cell_type": "code",
   "execution_count": null,
   "metadata": {},
   "outputs": [],
   "source": [
    "import os"
   ]
  },
  {
   "cell_type": "code",
   "execution_count": null,
   "metadata": {},
   "outputs": [],
   "source": [
    "current_dir"
   ]
  },
  {
   "cell_type": "code",
   "execution_count": null,
   "metadata": {},
   "outputs": [],
   "source": [
    "current_dir = os.path.dirname(os.getcwd())"
   ]
  },
  {
   "cell_type": "markdown",
   "metadata": {},
   "source": [
    "Para crear el json de abajo hay que ir primero a https://www.ine.es/ss/Satellite?L=es_ES&c=Page&cid=1259952026632&p=1259952026632&pagename=ProductosYServicios%2FPYSLayout, seleccionar un año (2020) en Ficheros nacionales de arriba, y darle a \"Ir\". Esto bajará un zip, que lo cargamos en mapshaper.\n",
    "\n",
    "El archivo json tiene que haber sido pasado por mapshaper, para corregir fallos en la exportación del json.\n",
    "Para ello, en la consola escribimos `-clean`, y `-proj wgs84` para pasar a proyección Mercator.\n",
    "\n",
    "En primer lugar, vamos a crear un archivo `mbtiles` del `json` para poderlo subir a mapbox studio. Para eso necesitamos `tippecanoe`. "
   ]
  },
  {
   "cell_type": "code",
   "execution_count": null,
   "metadata": {},
   "outputs": [],
   "source": [
    "path_to_json = current_dir + '/datos/mapas_elecciones/secciones.json'"
   ]
  },
  {
   "cell_type": "code",
   "execution_count": null,
   "metadata": {},
   "outputs": [],
   "source": [
    "!sudo apt-get install make\n",
    "!sudo apt-get install g++\n",
    "!sudo apt-get install build-essential\n",
    "!sudo apt-get install sqlite3\n",
    "!sudo apt-get install libsqlite3-dev\n",
    "!sudo apt install zlib1g-dev"
   ]
  },
  {
   "cell_type": "code",
   "execution_count": null,
   "metadata": {},
   "outputs": [],
   "source": [
    "!rm -rf tippecanoe"
   ]
  },
  {
   "cell_type": "code",
   "execution_count": null,
   "metadata": {},
   "outputs": [],
   "source": [
    "!git clone https://github.com/mapbox/tippecanoe.git"
   ]
  },
  {
   "cell_type": "code",
   "execution_count": null,
   "metadata": {},
   "outputs": [],
   "source": [
    "!cd tippecanoe && make -j && make install"
   ]
  },
  {
   "cell_type": "markdown",
   "metadata": {},
   "source": [
    "Igual os da error en `make -j`. Si es eso, seguramente falte algún paquete. Una busqueda en google te debería resolver rápido el problema."
   ]
  },
  {
   "cell_type": "markdown",
   "metadata": {},
   "source": [
    "Una vez hecho esto, vamos a crear el mbtile. Para ello vamos a establecer un nivel de zoom adecuado. De z3 a z10 es apropiado."
   ]
  },
  {
   "cell_type": "code",
   "execution_count": null,
   "metadata": {},
   "outputs": [],
   "source": [
    "path_to_mbtile = path_to_json.replace('.json', '.mbtiles')\n",
    "\n",
    "!tippecanoe -o $path_to_mbtile --maximum-zoom=10 --minimum-zoom=1 --read-parallel --force $path_to_json"
   ]
  },
  {
   "cell_type": "markdown",
   "metadata": {},
   "source": [
    "Este mbtiles se sube directamente a mapbox, y es el que se usará para hacer los análisis."
   ]
  }
 ],
 "metadata": {
  "kernelspec": {
   "display_name": "Python 3",
   "language": "python",
   "name": "python3"
  },
  "language_info": {
   "codemirror_mode": {
    "name": "ipython",
    "version": 3
   },
   "file_extension": ".py",
   "mimetype": "text/x-python",
   "name": "python",
   "nbconvert_exporter": "python",
   "pygments_lexer": "ipython3",
   "version": "3.8.0"
  }
 },
 "nbformat": 4,
 "nbformat_minor": 4
}
