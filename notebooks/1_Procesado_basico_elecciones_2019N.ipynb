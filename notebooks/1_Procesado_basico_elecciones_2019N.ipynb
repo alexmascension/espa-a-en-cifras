{
 "cells": [
  {
   "cell_type": "markdown",
   "metadata": {},
   "source": [
    "# Procesado básico de elecciones (Noviembre 2019)\n",
    "\n",
    "En este notebook vamos a procesar los datos de las elecciones y vamos a crear un mapa con los ganadores principales. También vamos a analizar el porcentaje de votos en blanco, nulos y abstención. \n",
    "\n",
    "Para correr este notebook necesitas haber realizado el preprocesado de datos del notebook 0.\n",
    "\n",
    "La idea que tengo de visualizar este mapa es dibujar el partido mayoritario. Para eso vamos a colorar cada municipio con el partido más votado (y el segundo más votado si corresponde). Para añadir los datos a mapbox vamos a trabajar con los colores de la siguiente manera: hacemos una condición de color, de modo que el partido más votado aparece su color. Para cambiar los porcentajes de voto, cambiamos el alpha. Por desgracia, luego habrá que cargar todos los datos en mapbox y hacer el estilo por nuestra cuenta, pero es lo que hay."
   ]
  },
  {
   "cell_type": "code",
   "execution_count": null,
   "metadata": {},
   "outputs": [],
   "source": [
    "import os\n",
    "import pandas as pd\n",
    "import numpy as np\n",
    "import bokeh as bk\n",
    "import holoviews as hv\n",
    "from bokeh.models import HoverTool\n",
    "hv.extension('bokeh')\n",
    "from bokeh.io import show, output_file\n",
    "from bokeh.models import ColumnDataSource\n",
    "from bokeh.plotting import figure\n",
    "\n",
    "from tqdm import tqdm, tqdm_notebook\n",
    "from bokeh.models import HoverTool, Panel, Tabs\n",
    "\n",
    "current_dir = os.path.dirname(os.getcwd())\n",
    "current_dir"
   ]
  },
  {
   "cell_type": "code",
   "execution_count": null,
   "metadata": {},
   "outputs": [],
   "source": [
    "df_propiedades = pd.read_csv(current_dir + '/datos/info_partidos/info_partidos.txt', sep='\\t', quoting=3\n",
    "                            ).set_index('Siglas')"
   ]
  },
  {
   "cell_type": "code",
   "execution_count": null,
   "metadata": {},
   "outputs": [],
   "source": [
    "tipo = 'congreso'\n",
    "año = '2019'\n",
    "mes = '11'"
   ]
  },
  {
   "cell_type": "code",
   "execution_count": null,
   "metadata": {},
   "outputs": [],
   "source": [
    "df = pd.read_pickle(current_dir + f'/datos/{tipo}_{año}_{mes}/resultados_candidaturas.pickle')"
   ]
  },
  {
   "cell_type": "markdown",
   "metadata": {},
   "source": [
    "Primero vamos a sacar cual es el partido más votado, y con ello vamos a hacer la lista de partidos más votados. Para cada uno de ellos habrá una columna específica que indique su porcentaje de voto por sección."
   ]
  },
  {
   "cell_type": "code",
   "execution_count": null,
   "metadata": {},
   "outputs": [],
   "source": [
    "df_partidos = df[[i for i in df.columns if i not in ['codigo provincia', 'codigo municipio', 'numero distrito',\n",
    "       'codigo seccion', 'censo escrutinio', 'votos candidaturas',\n",
    "       'votos blancos', 'votos nulos', 'codigo', 'PP-FORO']]]\n",
    "df_partidos = df_partidos.fillna(0)\n",
    "columnas_partidos = df_partidos.columns"
   ]
  },
  {
   "cell_type": "code",
   "execution_count": null,
   "metadata": {},
   "outputs": [],
   "source": [
    "results = np.unique(np.argmax(df_partidos.values, axis=1), return_counts=True)\n",
    "counts = results[1]\n",
    "partidos = [df_partidos.columns[i] for i in results[0]]\n",
    "\n",
    "df_mas_votados = pd.DataFrame({'partido': [i[:8] for i in partidos], 'nombre':partidos,\n",
    "                               'numero': counts, 'log': np.log10(counts),\n",
    "                               'colores': df_propiedades.loc[partidos, 'Color'].values,}\n",
    "                             ).sort_values(by='numero', ascending=False)"
   ]
  },
  {
   "cell_type": "markdown",
   "metadata": {},
   "source": [
    "Vemos que hay algunos partidos, como \"JF\", \"ARA-MES-ESQ\", o \"PUM+J\" que, pese a haber sido mayoritarios en algúna sección, su recuento es ínfimo. De hecho, si ploteamos la distribución (abajo), podemos establecer un putno de corte para hacer la selección."
   ]
  },
  {
   "cell_type": "code",
   "execution_count": null,
   "metadata": {},
   "outputs": [],
   "source": [
    "def hook_generico(p):\n",
    "    # change just some things about the x-axes\n",
    "    grey = \"#ababab\"\n",
    "    p.xaxis.axis_line_color = grey\n",
    "    \n",
    "    # change just some things about the y-axes\n",
    "    p.yaxis.axis_line_width = 0\n",
    "    \n",
    "    # change just some things about the two axes\n",
    "    for axis in [p.xaxis, p.yaxis]:\n",
    "        axis.minor_tick_line_width = 0\n",
    "        axis.major_tick_line_color = grey\n",
    "        axis.axis_label_text_color  = grey\n",
    "        axis.major_label_text_color = grey\n",
    "        axis.major_tick_line_width = 0\n",
    "    \n",
    "    p.xaxis.major_label_orientation = 3.14/4\n",
    "    p.xgrid.visible = False\n",
    "    p.ygrid.visible = False\n",
    "    p.outline_line_color = None\n",
    "    \n",
    "hover = HoverTool(\n",
    "    tooltips= \"\"\"<div><span style=\"font-size: 17px; font-weight: bold;\">@partido</span></div>\n",
    "        <div><span style=\"font-size: 15px;\">@numero</span></div>\"\"\",\n",
    "    # display a tooltip whenever the cursor is vertically in line with a glyph\n",
    "    mode='vline'\n",
    ")"
   ]
  },
  {
   "cell_type": "code",
   "execution_count": null,
   "metadata": {},
   "outputs": [],
   "source": [
    "p1 = figure(x_range=df_mas_votados['partido'],  plot_height=350, plot_width=950, tools='reset,box_zoom', \n",
    "            sizing_mode = 'scale_width')\n",
    "p1.add_tools(hover)\n",
    "p1.vbar(x='partido', top='numero', width=0.9, color='colores', source=df_mas_votados)\n",
    "hook_generico(p1)\n",
    "p1.yaxis.axis_label = \"Número de secciones con mayoría\"\n",
    "p1.yaxis.axis_label_text_font_style = 'normal'\n",
    "tab1 = Panel(child=p1, title=\"Normal\")\n",
    "\n",
    "p2 = figure(x_range=df_mas_votados['partido'],  plot_height=350, plot_width=950,tools='reset,box_zoom', \n",
    "            sizing_mode = 'scale_width')\n",
    "p2.add_tools(hover)\n",
    "p2.vbar(x='partido', top='log', width=0.9, color='colores', source=df_mas_votados)\n",
    "hook_generico(p2)\n",
    "p2.yaxis.axis_label = \"Número de secciones con mayoría (log)\"\n",
    "p2.yaxis.axis_label_text_font_style = 'normal'\n",
    "tab2 = Panel(child=p2, title=\"Logarítmico\")\n",
    "\n",
    "tabs = Tabs(tabs=[tab1, tab2])\n",
    "\n",
    "show(tabs)"
   ]
  },
  {
   "cell_type": "markdown",
   "metadata": {},
   "source": [
    "## Segunda parte: preparar los dataframes para mapbox\n",
    "Para preparar los dataframes vamos a dibujar los contornos de manera diferente según el zoom. En el zoom más pequeño se verán las autonomías, y conforme vamos descendiendo iremos mostrando los municipios y las secciones. \n",
    "Cada uno de estos dataframes va a incluir la siguiente información:\n",
    "* Nombre: el nombre que se va a mostrar en pantalla. Para provincia es el nombre de la provincia, para municipio el del municipio, y para la sección el nombre de municipio + dist XX + sec YY.\n",
    "* Porcentaje_PARTIDO: el porcentaje del partido mayoritario. Para el resto de partidos es 0.\n",
    "* Porcentaje_1o: El porcentaje del partido más votado.\n",
    "* Partido_1o: El nombre del partido más votado.\n",
    "* Partido_2o / Porcentaje_2o\n",
    "* Partido_3o / Porcentaje_3o\n",
    "* Porcentaje_blancos / porcentaje_nulos / porcentaje_abstencion\n",
    "\n",
    "Quedaría sacar el porcentaje del resto de partidos. Estos se calculan directamente en el javascript.\n",
    "\n",
    "En primer lugar, para calcular el porcentaje de los partidos, vamos a hacerlo para cada dataframe. Asi que los creamos ahora."
   ]
  },
  {
   "cell_type": "code",
   "execution_count": null,
   "metadata": {},
   "outputs": [],
   "source": [
    "df_secciones = df.copy()\n",
    "df_municipios = df.copy()\n",
    "df_provincias = df.copy()"
   ]
  },
  {
   "cell_type": "code",
   "execution_count": null,
   "metadata": {},
   "outputs": [],
   "source": [
    "df_municipios.index = [i[:5] for i in df_municipios.index]\n",
    "df_provincias.index = [i[:2] for i in df_provincias.index]"
   ]
  },
  {
   "cell_type": "code",
   "execution_count": null,
   "metadata": {},
   "outputs": [],
   "source": [
    "df_municipios = df_municipios.groupby(level=0).sum()\n",
    "df_provincias = df_provincias.groupby(level=0).sum()"
   ]
  },
  {
   "cell_type": "markdown",
   "metadata": {},
   "source": [
    "Vemos que hay varios partidos que tienen una minoría de representación. Eliminamos aquellos que aparezcan en menos de 10 secciones y repetimos el contaje. "
   ]
  },
  {
   "cell_type": "code",
   "execution_count": null,
   "metadata": {},
   "outputs": [],
   "source": [
    "partidos_seleccionados = df_mas_votados['nombre'][df_mas_votados['numero'] > 10].values"
   ]
  },
  {
   "cell_type": "code",
   "execution_count": null,
   "metadata": {},
   "outputs": [],
   "source": [
    "for col in partidos_seleccionados:\n",
    "    for df_i in [df_secciones, df_municipios, df_provincias]:\n",
    "        df_i['porcentaje_{}'.format(col)] = 100 * df_i[col] / df_i['votos candidaturas']"
   ]
  },
  {
   "cell_type": "markdown",
   "metadata": {},
   "source": [
    "Ahora, iterando por fila, vamos a hacer que el resto de partidos menos votados sea 0"
   ]
  },
  {
   "cell_type": "code",
   "execution_count": null,
   "metadata": {
    "scrolled": true
   },
   "outputs": [],
   "source": [
    "for df_i in [df_provincias, df_municipios, df_secciones]:\n",
    "    df_i['porcentaje_{}'.format(col)] = 100 * df_i[col] / df_i['votos candidaturas']\n",
    "    \n",
    "    porcentaje_1, partido_1, porcentaje_2, partido_2, porcentaje_3, partido_3 = [], [], [], [], [], []\n",
    "    porcentajes_seleccionados = []\n",
    "    for row in tqdm(df_i.index):\n",
    "        df_row = df_i.loc[row, partidos_seleccionados]\n",
    "        df_row = df_row.sort_values(ascending=False)\n",
    "        porcentaje_1.append(100 * df_row.iloc[0] / df_i.loc[row, 'votos candidaturas'])\n",
    "        partido_1.append(df_row.index[0])\n",
    "        porcentaje_2.append(100 * df_row.iloc[1] / df_i.loc[row, 'votos candidaturas'])\n",
    "        partido_2.append(df_row.index[1])\n",
    "        porcentaje_3.append(100 * df_row.iloc[2] / df_i.loc[row, 'votos candidaturas'])\n",
    "        partido_3.append(df_row.index[2])\n",
    "        \n",
    "        list_cols = ['porcentaje_{}'.format(col) for col in partidos_seleccionados if col != df_row.index[0]]  \n",
    "        \n",
    "        df_i.loc[row,list_cols] = 0\n",
    "    \n",
    "    df_i['porcentaje_1'], df_i['partido_1'] = porcentaje_1, partido_1\n",
    "    df_i['porcentaje_2'], df_i['partido_2'] = porcentaje_2, partido_2\n",
    "    df_i['porcentaje_3'], df_i['partido_3'] = porcentaje_3, partido_3\n",
    "    df_i['porcentaje_blancos'] = 100 * df_i['votos blancos'] /  df_i['censo escrutinio']\n",
    "    df_i['porcentaje_nulos'] = 100 * df_i['votos nulos'] /  df_i['censo escrutinio']\n",
    "    df_i['porcentaje_abstencion'] = 100 * (1 - df_i['votos candidaturas'] /  df_i['censo escrutinio'])\n"
   ]
  },
  {
   "cell_type": "markdown",
   "metadata": {},
   "source": [
    "Ahora cargamos el mapa. Para ello vamos cargamos el GeoJSON con geopandas, y añadimos las columnas correspondientes."
   ]
  },
  {
   "cell_type": "code",
   "execution_count": null,
   "metadata": {},
   "outputs": [],
   "source": [
    "import geopandas as gpd\n",
    "\n",
    "secciones_reciente = gpd.read_file(current_dir + f'/datos/mapas_elecciones/secciones_{año}.json', encoding='utf-8')\n",
    "municipios_reciente = gpd.read_file(current_dir + f'/datos/mapas_elecciones/municipios_{año}.json', encoding='utf-8')\n",
    "provincias_reciente = gpd.read_file(current_dir + f'/datos/mapas_elecciones/provincias_{año}.json', encoding='utf-8')"
   ]
  },
  {
   "cell_type": "code",
   "execution_count": null,
   "metadata": {},
   "outputs": [],
   "source": [
    "secciones_reciente = secciones_reciente.set_index('CUSEC', drop=False)\n",
    "municipios_reciente = municipios_reciente.set_index('CUMUN', drop=False)\n",
    "provincias_reciente = provincias_reciente.set_index('CPRO', drop=False)"
   ]
  },
  {
   "cell_type": "markdown",
   "metadata": {},
   "source": [
    "Ya hemos aunado los índices, así que ahora los subimos, y listo."
   ]
  },
  {
   "cell_type": "code",
   "execution_count": null,
   "metadata": {},
   "outputs": [],
   "source": [
    "combinado_secciones = secciones_reciente.join(df_secciones, how='inner')\n",
    "combinado_municipios = municipios_reciente.join(df_municipios, how='inner')\n",
    "combinado_provincias = provincias_reciente.join(df_provincias, how='inner')"
   ]
  },
  {
   "cell_type": "code",
   "execution_count": null,
   "metadata": {},
   "outputs": [],
   "source": [
    "nombre_secciones = []\n",
    "for row in tqdm_notebook(range(len(combinado_secciones))):\n",
    "    nombre_secciones.append('{}, dist {}, sec {}'.format(combinado_secciones['NMUN'].iloc[row], \n",
    "                                                         combinado_secciones.index[row][-5:-3], \n",
    "                                                         combinado_secciones.index[row][-3:], ))"
   ]
  },
  {
   "cell_type": "code",
   "execution_count": null,
   "metadata": {},
   "outputs": [],
   "source": [
    "combinado_secciones['Nombre'] = nombre_secciones\n",
    "combinado_municipios['Nombre'] = combinado_municipios['NMUN']\n",
    "combinado_provincias['Nombre'] = combinado_provincias['NPRO']"
   ]
  },
  {
   "cell_type": "code",
   "execution_count": null,
   "metadata": {},
   "outputs": [],
   "source": [
    "if not os.path.exists(current_dir + '/datos/mapas_elecciones/'): os.mkdir(current_dir + '/datos/mapas_elecciones/')\n",
    "combinado_secciones.to_file(current_dir + f'/datos/mapas_elecciones/porcentaje_mas_votado_{año}_{mes}_secciones.json', driver='GeoJSON', encoding='utf-8')\n",
    "combinado_municipios.to_file(current_dir + f'/datos/mapas_elecciones/porcentaje_mas_votado_{año}_{mes}_municipios.json', driver='GeoJSON', encoding='utf-8')\n",
    "combinado_provincias.to_file(current_dir + f'/datos/mapas_elecciones/porcentaje_mas_votado_{año}_{mes}_provincias.json', driver='GeoJSON', encoding='utf-8')"
   ]
  },
  {
   "cell_type": "markdown",
   "metadata": {},
   "source": [
    "Por último, se sube el archivo json que se ha creade a ``tilesets`` en mapbox. Si por alguna razón falla, cargar en mapshaper y descargar de nuevo."
   ]
  }
 ],
 "metadata": {
  "kernelspec": {
   "display_name": "Python 3",
   "language": "python",
   "name": "python3"
  },
  "language_info": {
   "codemirror_mode": {
    "name": "ipython",
    "version": 3
   },
   "file_extension": ".py",
   "mimetype": "text/x-python",
   "name": "python",
   "nbconvert_exporter": "python",
   "pygments_lexer": "ipython3",
   "version": "3.8.0"
  }
 },
 "nbformat": 4,
 "nbformat_minor": 4
}
